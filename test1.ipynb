{
 "cells": [
  {
   "cell_type": "code",
   "execution_count": 9,
   "metadata": {},
   "outputs": [
    {
     "name": "stdout",
     "output_type": "stream",
     "text": [
      "hello world\n",
      "0, 0, 0\n",
      "1, 10, 10\n",
      "2, 20, 30\n",
      "3, 30, 60\n",
      "4, 40, 100\n",
      "5, 50, 150\n",
      "6, 60, 210\n",
      "7, 70, 280\n",
      "8, 80, 360\n",
      "9, 90, 450\n"
     ]
    }
   ],
   "source": [
    "# integral calculator : y = ax + b \n",
    "# 0 <= x <= 9\n",
    "print(\"hello world\")\n",
    "a = 10\n",
    "b = 0\n",
    "result = 0\n",
    "for i in range(10):\n",
    "    y = a * i + b\n",
    "    result = result + y\n",
    "    print(\"{}, {}, {}\".format(i, y, result))"
   ]
  },
  {
   "cell_type": "code",
   "execution_count": 14,
   "metadata": {},
   "outputs": [
    {
     "name": "stdout",
     "output_type": "stream",
     "text": [
      "Ping - 0\n",
      "Pong - 1\n",
      "Ping - 2\n",
      "Pong - 3\n",
      "Ping - 4\n",
      "Pong - 5\n",
      "Ping - 6\n",
      "Pong - 7\n",
      "Ping - 8\n",
      "Pong - 9\n",
      "Ping - 10\n",
      "Pong - 11\n",
      "Ping - 12\n",
      "Pong - 13\n",
      "Ping - 14\n",
      "Pong - 15\n",
      "Ping - 16\n",
      "Pong - 17\n",
      "Ping - 18\n",
      "Pong - 19\n"
     ]
    }
   ],
   "source": [
    "# local ping pong\n",
    "max_num = 20\n",
    "for i in range(max_num):\n",
    "    if(i % 2 == 0):\n",
    "        print(\"Ping - {}\".format(i))\n",
    "    else:\n",
    "        print(\"Pong - {}\".format(i))"
   ]
  },
  {
   "cell_type": "code",
   "execution_count": 25,
   "metadata": {},
   "outputs": [
    {
     "name": "stdout",
     "output_type": "stream",
     "text": [
      "{1: 100, 10: 100, 50: 100, 100: 100, 500: 100}\n",
      "start to calculate ************\n",
      "change price : 8976\n",
      "500 : 17\n",
      "100 : 4\n",
      "50  : 1\n",
      "10  : 2\n",
      "1   : 6\n"
     ]
    }
   ],
   "source": [
    "# Change Calculator minimum coins\n",
    "## machine initial status\n",
    "machine={1: 100, 10: 100, 50: 100, 100: 100, 500:100}\n",
    "print(machine)\n",
    "print(\"start to calculate ************\")\n",
    "\n",
    "## initial status\n",
    "buy_price = 1024\n",
    "input_value = 10000\n",
    "\n",
    "diff_price = input_value - buy_price\n",
    "print(\"change price : {}\".format(diff_price))\n",
    "\n",
    "diff_price_500 = diff_price // 500\n",
    "diff_price_100 = (diff_price - (diff_price_500 * 500)) // 100\n",
    "diff_price_50 = (diff_price - (diff_price_500 * 500) - (diff_price_100 * 100)) // 50\n",
    "diff_price_10 = (diff_price - (diff_price_500 * 500) - (diff_price_100 * 100) - (diff_price_50 * 50)) // 10\n",
    "diff_price_1 =(diff_price - (diff_price_500 * 500) - (diff_price_100 * 100) - (diff_price_50 * 50) - (diff_price_10 * 10))\n",
    "\n",
    "print(\"500 : {}\".format(diff_price_500))\n",
    "print(\"100 : {}\".format(diff_price_100))\n",
    "print(\"50  : {}\".format(diff_price_50))\n",
    "print(\"10  : {}\".format(diff_price_10))\n",
    "print(\"1   : {}\".format(diff_price_1))"
   ]
  },
  {
   "cell_type": "code",
   "execution_count": 40,
   "metadata": {},
   "outputs": [
    {
     "name": "stdout",
     "output_type": "stream",
     "text": [
      "       0    1     2\n",
      "0  name1  500  foo1\n",
      "1  name2  400  foo2\n",
      "2  name3  300  foo3\n",
      "3  name4  200  foo4\n",
      "4  name5  100  foo5\n"
     ]
    }
   ],
   "source": [
    "import pandas as pd\n",
    "import csv\n",
    "import pprint\n",
    "\n",
    "# fix directory of this \n",
    "csv_res = pd.read_csv(\"./learn_python/sample.csv\", header=None)\n",
    "print(csv_res)\n",
    "\n"
   ]
  },
  {
   "cell_type": "code",
   "execution_count": null,
   "metadata": {},
   "outputs": [],
   "source": []
  }
 ],
 "metadata": {
  "kernelspec": {
   "display_name": "Python 3",
   "language": "python",
   "name": "python3"
  },
  "language_info": {
   "codemirror_mode": {
    "name": "ipython",
    "version": 3
   },
   "file_extension": ".py",
   "mimetype": "text/x-python",
   "name": "python",
   "nbconvert_exporter": "python",
   "pygments_lexer": "ipython3",
   "version": "3.8.5"
  }
 },
 "nbformat": 4,
 "nbformat_minor": 4
}
