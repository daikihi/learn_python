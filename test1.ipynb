{
 "cells": [
  {
   "cell_type": "code",
   "execution_count": 9,
   "metadata": {},
   "outputs": [
    {
     "name": "stdout",
     "output_type": "stream",
     "text": [
      "hello world\n",
      "0, 0, 0\n",
      "1, 10, 10\n",
      "2, 20, 30\n",
      "3, 30, 60\n",
      "4, 40, 100\n",
      "5, 50, 150\n",
      "6, 60, 210\n",
      "7, 70, 280\n",
      "8, 80, 360\n",
      "9, 90, 450\n"
     ]
    }
   ],
   "source": [
    "# integral calculator : y = ax + b \n",
    "# 0 <= x <= 9\n",
    "print(\"hello world\")\n",
    "a = 10\n",
    "b = 0\n",
    "result = 0\n",
    "for i in range(10):\n",
    "    y = a * i + b\n",
    "    result = result + y\n",
    "    print(\"{}, {}, {}\".format(i, y, result))"
   ]
  },
  {
   "cell_type": "code",
   "execution_count": 14,
   "metadata": {},
   "outputs": [
    {
     "name": "stdout",
     "output_type": "stream",
     "text": [
      "Ping - 0\n",
      "Pong - 1\n",
      "Ping - 2\n",
      "Pong - 3\n",
      "Ping - 4\n",
      "Pong - 5\n",
      "Ping - 6\n",
      "Pong - 7\n",
      "Ping - 8\n",
      "Pong - 9\n",
      "Ping - 10\n",
      "Pong - 11\n",
      "Ping - 12\n",
      "Pong - 13\n",
      "Ping - 14\n",
      "Pong - 15\n",
      "Ping - 16\n",
      "Pong - 17\n",
      "Ping - 18\n",
      "Pong - 19\n"
     ]
    }
   ],
   "source": [
    "# local ping pong\n",
    "max_num = 20\n",
    "for i in range(max_num):\n",
    "    if(i % 2 == 0):\n",
    "        print(\"Ping - {}\".format(i))\n",
    "    else:\n",
    "        print(\"Pong - {}\".format(i))"
   ]
  },
  {
   "cell_type": "code",
   "execution_count": null,
   "metadata": {},
   "outputs": [],
   "source": [
    "# Change Calculator minimum coins\n"
   ]
  }
 ],
 "metadata": {
  "kernelspec": {
   "display_name": "Python 3",
   "language": "python",
   "name": "python3"
  },
  "language_info": {
   "codemirror_mode": {
    "name": "ipython",
    "version": 3
   },
   "file_extension": ".py",
   "mimetype": "text/x-python",
   "name": "python",
   "nbconvert_exporter": "python",
   "pygments_lexer": "ipython3",
   "version": "3.8.5"
  }
 },
 "nbformat": 4,
 "nbformat_minor": 4
}
